{
 "cells": [
  {
   "cell_type": "code",
   "execution_count": 84,
   "id": "ccdb8ebc-e1d6-4ca5-b097-4af06eb4d627",
   "metadata": {},
   "outputs": [],
   "source": [
    "import json\n",
    "import pandas\n",
    "import os\n",
    "import textdistance"
   ]
  },
  {
   "cell_type": "code",
   "execution_count": 83,
   "id": "8face0ec-ea6d-43c7-a783-9c30cd2e1bbb",
   "metadata": {},
   "outputs": [
    {
     "name": "stdout",
     "output_type": "stream",
     "text": [
      "Collecting textdistance\n",
      "  Downloading textdistance-4.6.3-py3-none-any.whl.metadata (18 kB)\n",
      "Downloading textdistance-4.6.3-py3-none-any.whl (31 kB)\n",
      "Installing collected packages: textdistance\n",
      "Successfully installed textdistance-4.6.3\n",
      "\n",
      "\u001b[1m[\u001b[0m\u001b[34;49mnotice\u001b[0m\u001b[1;39;49m]\u001b[0m\u001b[39;49m A new release of pip is available: \u001b[0m\u001b[31;49m24.0\u001b[0m\u001b[39;49m -> \u001b[0m\u001b[32;49m24.2\u001b[0m\n",
      "\u001b[1m[\u001b[0m\u001b[34;49mnotice\u001b[0m\u001b[1;39;49m]\u001b[0m\u001b[39;49m To update, run: \u001b[0m\u001b[32;49mpip install --upgrade pip\u001b[0m\n",
      "Note: you may need to restart the kernel to use updated packages.\n"
     ]
    }
   ],
   "source": [
    "DUMP_DIR = \"../cedar-spec/cedar-drt/cedar-afl/dump_out/\""
   ]
  },
  {
   "cell_type": "code",
   "execution_count": 110,
   "id": "8e390d24-2411-4f98-b034-76dcdf27a9d6",
   "metadata": {},
   "outputs": [],
   "source": [
    "inputs = {}\n",
    "inputs['000000'] = {\n",
    "    'src': '000000',\n",
    "    'time': 0,\n",
    "    'execs': 0,\n",
    "}\n",
    "for f in os.listdir(DUMP_DIR):\n",
    "    path = os.path.join(DUMP_DIR, f)\n",
    "    f_split = f.split(\",\")\n",
    "    cov = False\n",
    "    if len(f_split) > 7:\n",
    "        cov = True\n",
    "    elif len(f_split) == 4:\n",
    "        continue\n",
    "    iid, src, time, execs, op, reason = f_split[:6]\n",
    "    if len(f_split) > 7:\n",
    "        cov = True\n",
    "    try:\n",
    "        input_src = json.load(open(path, \"r\"))\n",
    "        input_dict = {\n",
    "            \"src\": src.split(\":\")[1],\n",
    "            \"time\": time,\n",
    "            \"execs\": execs,\n",
    "            \"op\": op,\n",
    "            \"cov\": cov,\n",
    "            \"input\": input_src\n",
    "        }\n",
    "        inputs[iid.split(\":\")[1]] = input_dict\n",
    "    except:\n",
    "        with open(\"unfinished.txt\", \"a\") as f2:\n",
    "            f2.write(f[:-5] + \"\\n\")\n",
    "        continue"
   ]
  },
  {
   "cell_type": "code",
   "execution_count": 104,
   "id": "39f30c9b-f908-4953-9805-82e59316dde0",
   "metadata": {},
   "outputs": [
    {
     "name": "stdout",
     "output_type": "stream",
     "text": [
      "6253\n"
     ]
    }
   ],
   "source": [
    "print(len(inputs))"
   ]
  },
  {
   "cell_type": "code",
   "execution_count": null,
   "id": "f9b44038-bdd8-4612-bf67-d9153b768281",
   "metadata": {
    "scrolled": true
   },
   "outputs": [],
   "source": [
    "parent_inputs = {}\n",
    "for i in inputs:\n",
    "    print(i)\n",
    "    try:\n",
    "        src = inputs[i][\"src\"]\n",
    "        if \"children\" not in inputs[src]:\n",
    "            inputs[src][\"children\"] = set()\n",
    "        inputs[src][\"children\"].add(i)\n",
    "    except:\n",
    "        continue"
   ]
  },
  {
   "cell_type": "code",
   "execution_count": 141,
   "id": "27de78fc-d828-4dfc-ade1-045770851251",
   "metadata": {},
   "outputs": [],
   "source": [
    "from langchain.evaluation.parsing.json_distance import JsonEditDistanceEvaluator\n",
    "evaluator = JsonEditDistanceEvaluator()"
   ]
  },
  {
   "cell_type": "code",
   "execution_count": 183,
   "id": "e638528e-85ec-4025-aa36-52ce97ef0c9b",
   "metadata": {},
   "outputs": [
    {
     "name": "stderr",
     "output_type": "stream",
     "text": [
      "100%|███████████████████████████████████████████████████████████████████████████████████████████████████████████████████████████████████████████| 6253/6253 [03:11<00:00, 32.70it/s]\n"
     ]
    }
   ],
   "source": [
    "import tqdm\n",
    "dists = []\n",
    "text_dists = []\n",
    "rows = []\n",
    "for i in tqdm.tqdm(inputs):\n",
    "    if i == \"000000\":\n",
    "        continue\n",
    "    input_dict = inputs[i]\n",
    "    if \"children\" in input_dict and \"input\" in input_dict:\n",
    "        # print(f\"Original data: {input_dict['input']['data']}\")\n",
    "        for c in input_dict[\"children\"]:\n",
    "            c_dict = inputs[c]\n",
    "            dist = textdistance.levenshtein.distance(input_dict['input']['data'], c_dict['input']['data'])\n",
    "            parent_input = json.loads(input_dict['input']['input'])\n",
    "            child_input = json.loads(c_dict['input']['input'])\n",
    "            schema_dist = evaluator.evaluate_strings(prediction=json.dumps(parent_input[\"schema\"]), reference=json.dumps(child_input[\"schema\"]))\n",
    "            entities_dist = evaluator.evaluate_strings(prediction=json.dumps(parent_input[\"entities\"]), reference=json.dumps(child_input[\"entities\"]))\n",
    "            policy_dist = evaluator.evaluate_strings(prediction=json.dumps(parent_input[\"policy\"]), reference=json.dumps(child_input[\"policy\"]))\n",
    "            requests_dist = evaluator.evaluate_strings(prediction=json.dumps(parent_input[\"requests\"]), reference=json.dumps(child_input[\"requests\"]))\n",
    "            rows.append([i, c, dist, c_dict[\"cov\"], schema_dist['score'], entities_dist['score'], policy_dist['score'], requests_dist['score']])\n"
   ]
  },
  {
   "cell_type": "code",
   "execution_count": 184,
   "id": "89cddba7-4564-45c0-a58d-d2c487f46f18",
   "metadata": {},
   "outputs": [],
   "source": [
    "import pandas as pd\n",
    "df = pd.DataFrame(rows, columns=['parent', 'child', 'cov', 'byte_dist', 'schema_dist', 'entities_dist', 'policies_dist', 'requests_dist'])"
   ]
  },
  {
   "cell_type": "code",
   "execution_count": 157,
   "id": "e209bc11-1bd5-4c91-988c-1ae0c0ea22e8",
   "metadata": {},
   "outputs": [
    {
     "data": {
      "text/html": [
       "<div>\n",
       "<style scoped>\n",
       "    .dataframe tbody tr th:only-of-type {\n",
       "        vertical-align: middle;\n",
       "    }\n",
       "\n",
       "    .dataframe tbody tr th {\n",
       "        vertical-align: top;\n",
       "    }\n",
       "\n",
       "    .dataframe thead th {\n",
       "        text-align: right;\n",
       "    }\n",
       "</style>\n",
       "<table border=\"1\" class=\"dataframe\">\n",
       "  <thead>\n",
       "    <tr style=\"text-align: right;\">\n",
       "      <th></th>\n",
       "      <th>parent</th>\n",
       "      <th>child</th>\n",
       "      <th>byte_dist</th>\n",
       "      <th>schema_dist</th>\n",
       "      <th>entities_dist</th>\n",
       "      <th>policies_dist</th>\n",
       "      <th>requests_dist</th>\n",
       "    </tr>\n",
       "  </thead>\n",
       "  <tbody>\n",
       "    <tr>\n",
       "      <th>0</th>\n",
       "      <td>002955</td>\n",
       "      <td>004382</td>\n",
       "      <td>82</td>\n",
       "      <td>0.594243</td>\n",
       "      <td>0.566478</td>\n",
       "      <td>0.000000</td>\n",
       "      <td>0.187959</td>\n",
       "    </tr>\n",
       "    <tr>\n",
       "      <th>1</th>\n",
       "      <td>002955</td>\n",
       "      <td>004383</td>\n",
       "      <td>113</td>\n",
       "      <td>0.713590</td>\n",
       "      <td>0.695303</td>\n",
       "      <td>0.000000</td>\n",
       "      <td>0.187959</td>\n",
       "    </tr>\n",
       "    <tr>\n",
       "      <th>2</th>\n",
       "      <td>005768</td>\n",
       "      <td>005774</td>\n",
       "      <td>11</td>\n",
       "      <td>0.000000</td>\n",
       "      <td>0.466496</td>\n",
       "      <td>0.008869</td>\n",
       "      <td>0.050847</td>\n",
       "    </tr>\n",
       "    <tr>\n",
       "      <th>3</th>\n",
       "      <td>005768</td>\n",
       "      <td>005776</td>\n",
       "      <td>4</td>\n",
       "      <td>0.006593</td>\n",
       "      <td>0.466496</td>\n",
       "      <td>0.008879</td>\n",
       "      <td>0.010955</td>\n",
       "    </tr>\n",
       "    <tr>\n",
       "      <th>4</th>\n",
       "      <td>005768</td>\n",
       "      <td>005775</td>\n",
       "      <td>1</td>\n",
       "      <td>0.008791</td>\n",
       "      <td>0.000000</td>\n",
       "      <td>0.000000</td>\n",
       "      <td>0.125894</td>\n",
       "    </tr>\n",
       "    <tr>\n",
       "      <th>...</th>\n",
       "      <td>...</td>\n",
       "      <td>...</td>\n",
       "      <td>...</td>\n",
       "      <td>...</td>\n",
       "      <td>...</td>\n",
       "      <td>...</td>\n",
       "      <td>...</td>\n",
       "    </tr>\n",
       "    <tr>\n",
       "      <th>3731</th>\n",
       "      <td>004135</td>\n",
       "      <td>005627</td>\n",
       "      <td>77</td>\n",
       "      <td>0.000000</td>\n",
       "      <td>0.000000</td>\n",
       "      <td>0.278944</td>\n",
       "      <td>0.000000</td>\n",
       "    </tr>\n",
       "    <tr>\n",
       "      <th>3732</th>\n",
       "      <td>004521</td>\n",
       "      <td>004525</td>\n",
       "      <td>4</td>\n",
       "      <td>0.373512</td>\n",
       "      <td>0.000000</td>\n",
       "      <td>0.000000</td>\n",
       "      <td>0.031537</td>\n",
       "    </tr>\n",
       "    <tr>\n",
       "      <th>3733</th>\n",
       "      <td>004521</td>\n",
       "      <td>004527</td>\n",
       "      <td>2</td>\n",
       "      <td>0.138779</td>\n",
       "      <td>0.000000</td>\n",
       "      <td>0.000000</td>\n",
       "      <td>0.010512</td>\n",
       "    </tr>\n",
       "    <tr>\n",
       "      <th>3734</th>\n",
       "      <td>004521</td>\n",
       "      <td>006524</td>\n",
       "      <td>2</td>\n",
       "      <td>0.362569</td>\n",
       "      <td>0.000000</td>\n",
       "      <td>0.000000</td>\n",
       "      <td>0.031537</td>\n",
       "    </tr>\n",
       "    <tr>\n",
       "      <th>3735</th>\n",
       "      <td>004521</td>\n",
       "      <td>004526</td>\n",
       "      <td>4</td>\n",
       "      <td>0.158626</td>\n",
       "      <td>0.000000</td>\n",
       "      <td>0.000000</td>\n",
       "      <td>0.021025</td>\n",
       "    </tr>\n",
       "  </tbody>\n",
       "</table>\n",
       "<p>3736 rows × 7 columns</p>\n",
       "</div>"
      ],
      "text/plain": [
       "      parent   child  byte_dist  schema_dist  entities_dist  policies_dist  \\\n",
       "0     002955  004382         82     0.594243       0.566478       0.000000   \n",
       "1     002955  004383        113     0.713590       0.695303       0.000000   \n",
       "2     005768  005774         11     0.000000       0.466496       0.008869   \n",
       "3     005768  005776          4     0.006593       0.466496       0.008879   \n",
       "4     005768  005775          1     0.008791       0.000000       0.000000   \n",
       "...      ...     ...        ...          ...            ...            ...   \n",
       "3731  004135  005627         77     0.000000       0.000000       0.278944   \n",
       "3732  004521  004525          4     0.373512       0.000000       0.000000   \n",
       "3733  004521  004527          2     0.138779       0.000000       0.000000   \n",
       "3734  004521  006524          2     0.362569       0.000000       0.000000   \n",
       "3735  004521  004526          4     0.158626       0.000000       0.000000   \n",
       "\n",
       "      requests_dist  \n",
       "0          0.187959  \n",
       "1          0.187959  \n",
       "2          0.050847  \n",
       "3          0.010955  \n",
       "4          0.125894  \n",
       "...             ...  \n",
       "3731       0.000000  \n",
       "3732       0.031537  \n",
       "3733       0.010512  \n",
       "3734       0.031537  \n",
       "3735       0.021025  \n",
       "\n",
       "[3736 rows x 7 columns]"
      ]
     },
     "execution_count": 157,
     "metadata": {},
     "output_type": "execute_result"
    }
   ],
   "source": [
    "df"
   ]
  },
  {
   "cell_type": "code",
   "execution_count": 179,
   "id": "69fc67fd-b41b-426e-87fd-f250daef7879",
   "metadata": {},
   "outputs": [],
   "source": [
    "df['input_changed'] = df['entities_dist'] + df['policies_dist'] + df['requests_dist'] != 0"
   ]
  },
  {
   "cell_type": "code",
   "execution_count": 168,
   "id": "349c7289-9869-4f4a-a54f-e2e6b7a2f161",
   "metadata": {},
   "outputs": [
    {
     "data": {
      "text/plain": [
       "<Axes: >"
      ]
     },
     "execution_count": 168,
     "metadata": {},
     "output_type": "execute_result"
    },
    {
     "data": {
      "image/png": "[encoded data removed]",
      "text/plain": [
       "<Figure size 640x480 with 1 Axes>"
      ]
     },
     "metadata": {},
     "output_type": "display_data"
    }
   ],
   "source": [
    "df['schema_dist'].hist()"
   ]
  },
  {
   "cell_type": "code",
   "execution_count": 169,
   "id": "dd17ff6b-a03b-4c7c-a79c-d4881646ef04",
   "metadata": {},
   "outputs": [
    {
     "data": {
      "text/plain": [
       "<Axes: >"
      ]
     },
     "execution_count": 169,
     "metadata": {},
     "output_type": "execute_result"
    },
    {
     "data": {
      "image/png": "[encoded data removed]",
      "text/plain": [
       "<Figure size 640x480 with 1 Axes>"
      ]
     },
     "metadata": {},
     "output_type": "display_data"
    }
   ],
   "source": [
    "df['entities_dist'].hist()"
   ]
  },
  {
   "cell_type": "code",
   "execution_count": 180,
   "id": "1617bbbd-5e02-4585-b0c3-7bbc7a068510",
   "metadata": {},
   "outputs": [
    {
     "data": {
      "text/plain": [
       "count     3736\n",
       "unique       2\n",
       "top       True\n",
       "freq      3685\n",
       "Name: input_changed, dtype: object"
      ]
     },
     "execution_count": 180,
     "metadata": {},
     "output_type": "execute_result"
    }
   ],
   "source": [
    "df['input_changed'].describe()"
   ]
  },
  {
   "cell_type": "code",
   "execution_count": null,
   "id": "a83cf1e0-7d08-4fd8-9169-bd173ff3780a",
   "metadata": {},
   "outputs": [],
   "source": []
  }
 ],
 "metadata": {
  "kernelspec": {
   "display_name": "venv",
   "language": "python",
   "name": "venv"
  },
  "language_info": {
   "codemirror_mode": {
    "name": "ipython",
    "version": 3
   },
   "file_extension": ".py",
   "mimetype": "text/x-python",
   "name": "python",
   "nbconvert_exporter": "python",
   "pygments_lexer": "ipython3",
   "version": "3.11.9"
  }
 },
 "nbformat": 4,
 "nbformat_minor": 5
}
